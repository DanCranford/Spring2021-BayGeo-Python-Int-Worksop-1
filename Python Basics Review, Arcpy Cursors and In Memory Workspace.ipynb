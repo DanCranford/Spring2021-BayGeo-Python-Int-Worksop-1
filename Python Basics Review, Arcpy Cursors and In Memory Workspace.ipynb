{
 "cells": [
  {
   "cell_type": "markdown",
   "metadata": {},
   "source": [
    "# Python Basics Review\n",
    "\n",
    "**Syntax**\n",
    "\n",
    "Python reads code line by line and uses key words, characters and indenting to store data and execute functions.\n",
    "Import the Python libraries used in a script at the top.  Then define global variables and functions.\n",
    "Use comments to document what each section of code is doing.\n",
    "\n",
    "\n",
    "\n"
   ]
  },
  {
   "cell_type": "markdown",
   "metadata": {},
   "source": [
    "# Data Types \n",
    "\n",
    "**Numbers** - Integer, floating point, complex numbers and Boolean\n",
    "\n",
    "**Lists** - container for data/objects\n",
    "\n",
    "**Tuples** - container for data/objects\n",
    "\n",
    "**Strings** - text\n",
    "\n",
    "**Dictionaries** - container for data/objects, like a row in a spreadsheet\n",
    "\n",
    "**Sets** - container for data/objects\n",
    "\n",
    "**Arcpy Feature Layer** - A temporary version of a shapefile, feature class or table that allows for spatial and attribute selections.  Any edits to the Feature Layer will be reflected in the source shapefile, feature class or table.\n",
    "\n",
    "https://github.com/DanCranford/Workshop_Beginner_1/blob/master/Beginner_Week_1_1.ipynb"
   ]
  },
  {
   "cell_type": "markdown",
   "metadata": {},
   "source": [
    "# Programming Concepts\n",
    "\n",
    "* Creating variables and assigning data to them.  x = 1\n",
    "* Data Operators, +, -, * etc...\n",
    "* Comparison Operators, ==, <, >=\n",
    "* Looping, for, while\n",
    "* Conditional Statements, if, elif, else\n",
    "* Python built in functions\n",
    "* Defining custom functions\n",
    "\n",
    "\n",
    "https://github.com/DanCranford/Workshop_Beginner_1/blob/master/Beginner_Week_1_2.ipynb"
   ]
  },
  {
   "cell_type": "markdown",
   "metadata": {
    "heading_collapsed": true
   },
   "source": [
    "# Process Automation with arcpy\n",
    "Let's look at an example of a typical workflow in which you may want to use python.  Here we have a series of zipped shapefiles and we'd like to clip the data that's in each of the shapefiles.  To accomplish this, we'll have to:\n",
    "- list all the zipped shapefiles\n",
    "- extract each zipped shapefile\n",
    "- buffer an Area of Interest (AOI) shapefile\n",
    "- use our buffered AOI shapefile to clip each of the other shapefiles"
   ]
  },
  {
   "cell_type": "code",
   "execution_count": null,
   "metadata": {
    "hidden": true
   },
   "outputs": [],
   "source": [
    "\n",
    "# Script to loop through a folder of shapefiles and clip them using an input buffer\n",
    "import os\n",
    "import arcpy\n",
    "import zipfile\n",
    "\n",
    "# Set location for output of extracted shapefiles\n",
    "example_folder = r\".\\Example_Data\"\n",
    "if not os.path.exists(example_folder):\n",
    "    os.mkdir(example_folder)\n",
    "\n",
    "\n",
    "extracted_folder = r\".\\Example_Data\\Extracted_SHP\"\n",
    "if not os.path.exists(extracted_folder):\n",
    "    os.mkdir(extracted_folder)\n",
    "\n",
    "# Unzip all the zipped shapefiles\n",
    "zips = [f for f in os.listdir('.') if '.zip' in f]\n",
    "for zf in zips:\n",
    "    zfile = zipfile.ZipFile(zf)\n",
    "    zfile.extractall(extracted_folder)"
   ]
  },
  {
   "cell_type": "markdown",
   "metadata": {
    "hidden": true
   },
   "source": [
    "**Bonus - List Comprehension**\n",
    "\n",
    "List comprehensions are incredibly useful for creating and modifying lists.  It can save you all sorts of space in your code by reducing the number of lines needed to create a new list or filter an existing list.  There are also dict comprehensions!\n",
    "\n",
    "https://www.w3schools.com/python/python_lists_comprehension.asp"
   ]
  },
  {
   "cell_type": "code",
   "execution_count": null,
   "metadata": {
    "hidden": true
   },
   "outputs": [],
   "source": [
    "#Set location for output of geoprocessing tools\n",
    "output_folder = r\".\\Example_Data\\Output_Folder\"\n",
    "if not os.path.exists(output_folder):\n",
    "    os.mkdir(output_folder)\n",
    "\n",
    "# set input for clipping\n",
    "starting_point = os.path.join(extracted_folder, 'Locations_of_Interest.shp')\n",
    "\n",
    "# spatial join with neighborhoods\n",
    "starting_point_sj = arcpy.analysis.SpatialJoin(starting_point,\n",
    "                                               os.path.join(extracted_folder,'SF_Neighborhoods.shp'),\n",
    "                                               os.path.join(extracted_folder,'starting_point_sj.shp')\n",
    "                                              )\n",
    "                                               \n",
    "\n",
    "# create buffered shapefile to use in clip\n",
    "starting_point_buffer = arcpy.Buffer_analysis(starting_point_sj, \n",
    "                                              os.path.join(output_folder, 'Location_buffer.shp'),\n",
    "                                              \"1 Mile\")"
   ]
  },
  {
   "cell_type": "code",
   "execution_count": null,
   "metadata": {
    "hidden": true
   },
   "outputs": [],
   "source": [
    "# iterate through shapefiles and create clipped shapefiles\n",
    "arcpy.env.workspace = extracted_folder\n",
    "shp_list = arcpy.ListFeatureClasses()\n",
    "shps_to_clip = [s for s in shp_list if 'Location' not in s]\n",
    "\n",
    "for shp in shps_to_clip:\n",
    "    #Clipping all our shapefiles\n",
    "    print('Intersecting', shp)\n",
    "    clip_shp = os.path.join(output_folder, shp[:-4] + '_int.shp')\n",
    "    arcpy.analysis.Intersect([shp, starting_point_buffer], clip_shp)"
   ]
  },
  {
   "cell_type": "markdown",
   "metadata": {
    "heading_collapsed": true
   },
   "source": [
    "# Cursors\n",
    "\n",
    "Arcpy has 3 types of Cursors, Search, Update and Insert.  These can be used to iterate through the table of a shapefile/feature class/feature table and access the values of each row in the table.\n",
    "\n",
    "You also need to specify what fields to include in the Cursor.\n",
    "\n",
    "This returns an iterator object that can be looped through like a list.\n",
    "\n",
    "- [arcpy.da.SearchCursor()](https://pro.arcgis.com/en/pro-app/arcpy/data-access/searchcursor-class.htm)\n",
    "- [arcpy.da.InsertCursor()](https://pro.arcgis.com/en/pro-app/arcpy/data-access/insertcursor-class.htm)\n",
    "- [arcpy.da.UpdateCursor()](https://pro.arcgis.com/en/pro-app/arcpy/data-access/updatecursor-class.htm)"
   ]
  },
  {
   "cell_type": "code",
   "execution_count": null,
   "metadata": {
    "hidden": true
   },
   "outputs": [],
   "source": [
    "#Example of creating a Search Cursor, note that da.SearchCursor is the newest version of this\n",
    "import arcpy\n",
    "\n",
    "shp = os.path.join(extracted_folder, \"SF_Streets.shp\")\n",
    "flds = ['streetname', 'active', 'classcode', 'SHAPE@LENGTH']\n",
    "\n",
    "cursor = arcpy.da.SearchCursor(shp, flds)\n"
   ]
  },
  {
   "cell_type": "code",
   "execution_count": null,
   "metadata": {
    "hidden": true,
    "scrolled": true
   },
   "outputs": [],
   "source": [
    "cursor"
   ]
  },
  {
   "cell_type": "code",
   "execution_count": null,
   "metadata": {
    "hidden": true
   },
   "outputs": [],
   "source": [
    "for row in cursor:\n",
    "    print(type(row), row)"
   ]
  },
  {
   "cell_type": "code",
   "execution_count": null,
   "metadata": {
    "hidden": true
   },
   "outputs": [],
   "source": [
    "cursor"
   ]
  },
  {
   "cell_type": "code",
   "execution_count": null,
   "metadata": {
    "hidden": true
   },
   "outputs": [],
   "source": [
    "type(cursor)"
   ]
  },
  {
   "cell_type": "code",
   "execution_count": null,
   "metadata": {
    "hidden": true
   },
   "outputs": [],
   "source": [
    "#Once the iterator has been iterated through, it needs to be reset before you can iterate again\n",
    "for row in cursor:\n",
    "    if row[1] == 0:\n",
    "        print(row)"
   ]
  },
  {
   "cell_type": "code",
   "execution_count": null,
   "metadata": {
    "hidden": true
   },
   "outputs": [],
   "source": [
    "#Using the reset method\n",
    "cursor.reset()"
   ]
  },
  {
   "cell_type": "code",
   "execution_count": null,
   "metadata": {
    "hidden": true
   },
   "outputs": [],
   "source": [
    "#Now we can iterate again!\n",
    "for row in cursor:\n",
    "    if row[1] == 0:\n",
    "        print(row)"
   ]
  },
  {
   "cell_type": "code",
   "execution_count": null,
   "metadata": {
    "hidden": true
   },
   "outputs": [],
   "source": [
    "row"
   ]
  },
  {
   "cell_type": "code",
   "execution_count": null,
   "metadata": {
    "hidden": true
   },
   "outputs": [],
   "source": [
    "#The cursors are stored in the RAM memory, if you are working with large tables, you may want to delete them after you're done.\n",
    "del row\n",
    "del cursor"
   ]
  },
  {
   "cell_type": "code",
   "execution_count": null,
   "metadata": {
    "hidden": true
   },
   "outputs": [],
   "source": [
    "cursor"
   ]
  },
  {
   "cell_type": "code",
   "execution_count": null,
   "metadata": {
    "hidden": true
   },
   "outputs": [],
   "source": [
    "#Using the with keyword, we can create an object and use it.  We'll go over this more is session 2.\n",
    "\n",
    "with arcpy.da.UpdateCursor(shp, flds) as cursor:\n",
    "    for row in cursor:\n",
    "        print(type(row), row)"
   ]
  },
  {
   "cell_type": "code",
   "execution_count": null,
   "metadata": {
    "hidden": true
   },
   "outputs": [],
   "source": [
    "row"
   ]
  },
  {
   "cell_type": "code",
   "execution_count": null,
   "metadata": {
    "hidden": true
   },
   "outputs": [],
   "source": [
    "#Update the last row to mixed case using the title string method and the updateRow Cursor method\n",
    "with arcpy.da.UpdateCursor(shp, flds) as cursor:\n",
    "    for row in cursor:\n",
    "        if row[0] == 'IRONWOOD WAY':\n",
    "            row[0] = row[0].title()\n",
    "            cursor.updateRow(row)"
   ]
  },
  {
   "cell_type": "code",
   "execution_count": null,
   "metadata": {
    "hidden": true
   },
   "outputs": [],
   "source": [
    "row"
   ]
  },
  {
   "cell_type": "code",
   "execution_count": null,
   "metadata": {
    "hidden": true
   },
   "outputs": [],
   "source": [
    "#We can use a search cursor to focus analysis on a feature by feature basis\n",
    "\n",
    "loc_int_layer = arcpy.MakeFeatureLayer_management(starting_point, \"loc_int_layer1\")\n",
    "\n",
    "with arcpy.da.SearchCursor(starting_point, '*') as point_cursor:\n",
    "    for row in point_cursor:\n",
    "        query = \"Location = '{}'\".format(row[2])\n",
    "        print(query)\n",
    "        arcpy.SelectLayerByAttribute_management(loc_int_layer, \"NEW_SELECTION\", query)\n",
    "        arcpy.FeatureClassToFeatureClass_conversion(loc_int_layer, output_folder, row[2] + '.shp')"
   ]
  },
  {
   "cell_type": "code",
   "execution_count": null,
   "metadata": {
    "hidden": true
   },
   "outputs": [],
   "source": []
  },
  {
   "cell_type": "markdown",
   "metadata": {
    "heading_collapsed": true
   },
   "source": [
    "# In Memory Workspace\n",
    "\n",
    "The in memory workspace allows you to create temporary spatial layers that exist in the RAM memory.  This can make scripts run faster and also avoid creating shapefiles/feature classes for every step of a script.  Once the script or Python session ends, the layers will no longer exist.\n",
    "\n",
    "Not all tools will work with the in memory workspace, so you may need to adjust your methods in some cases.  It's also not possible to create folders within the in memory workspace.\n",
    "\n",
    "\"in_memory\" is the temporary workspace for ArcMap, \"memory\" is the new version used in ArcPro, keep this in mind if you are developing tools people will use with ArcMap.  The \"in_memory\" workspace also doesn't support subtypes or domains.  \n",
    "\n",
    "These temporary workspaces are great for storing intermediary layers, but if you are working with large datasets, you may want to delete them once they are no longer needed to free up space in your RAM.\n",
    "\n",
    "Example of format for creating a temporary buffer feature\n",
    "\n",
    "**ArcPro** - r\"memory\\Buffer\"\n",
    "\n",
    "**ArcMap** - r\"in_memory\\Buffer\"\n"
   ]
  },
  {
   "cell_type": "code",
   "execution_count": null,
   "metadata": {
    "hidden": true
   },
   "outputs": [],
   "source": [
    "#Let's use the memory workspace to save a temporary layer in some geoprocessing\n",
    "#We can use the over write output setting to overwrite the temporary layer\n",
    "\n",
    "import os\n",
    "sf_business = os.path.join(extracted_folder, \"SF_Businesses.shp\")\n",
    "\n",
    "arcpy.env.overwriteOutput = True\n",
    "\n",
    "with arcpy.da.SearchCursor(starting_point, 'Location') as point_cursor:\n",
    "    for row in point_cursor:\n",
    "        query = \"Location = '{}'\".format(row[0])\n",
    "        print(query)\n",
    "        arcpy.SelectLayerByAttribute_management(loc_int_layer, \"NEW_SELECTION\", query)\n",
    "        arcpy.Buffer_analysis(loc_int_layer, r\"memory\\Buffer\", \"1 Mile\")\n",
    "        arcpy.Clip_analysis(sf_business, r\"memory\\Buffer\", os.path.join(output_folder, row[0] + '_Businesses.shp'))\n",
    "      "
   ]
  },
  {
   "cell_type": "code",
   "execution_count": null,
   "metadata": {
    "hidden": true
   },
   "outputs": [],
   "source": [
    "#We can delete the temporary layer when we don't need it anymore\n",
    "#Only really needed if you are using large datasets and will continue in your Python session/script\n",
    "arcpy.Delete_management(r\"memory\\Buffer\")    "
   ]
  },
  {
   "cell_type": "code",
   "execution_count": null,
   "metadata": {
    "hidden": true
   },
   "outputs": [],
   "source": []
  }
 ],
 "metadata": {
  "kernelspec": {
   "display_name": "Python 3",
   "language": "python",
   "name": "python3"
  },
  "language_info": {
   "codemirror_mode": {
    "name": "ipython",
    "version": 3
   },
   "file_extension": ".py",
   "mimetype": "text/x-python",
   "name": "python",
   "nbconvert_exporter": "python",
   "pygments_lexer": "ipython3",
   "version": "3.7.9"
  }
 },
 "nbformat": 4,
 "nbformat_minor": 2
}
