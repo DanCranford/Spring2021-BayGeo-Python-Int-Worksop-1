{
 "cells": [
  {
   "cell_type": "markdown",
   "metadata": {},
   "source": [
    "# In-Session Work\n",
    "\n",
    "Let's use this notebook to work through some common issues and write our own code."
   ]
  },
  {
   "cell_type": "markdown",
   "metadata": {},
   "source": [
    "## Geoprocessing Automation"
   ]
  },
  {
   "cell_type": "markdown",
   "metadata": {},
   "source": [
    "### Problem 1\n",
    "We want to list all the shapefiles in a folder.  Printing the name of each shapefile would be sufficient in this case.\n",
    "\n",
    "**Useful Links**\n",
    "- [arcpy.env.workspace](https://pro.arcgis.com/en/pro-app/latest/tool-reference/environment-settings/current-workspace.htm)\n",
    "- [arcpy.ListFeatureClasses()](https://pro.arcgis.com/en/pro-app/latest/arcpy/functions/listfeatureclasses.htm)\n",
    "\n",
    "**Hint** - this is potentially useful.  When you're working in Python, `\".\"` refers to the folder you're running Python in.  In this case (and in many) it's the folder that the script exists in.\n",
    "\n",
    "**Bonus** - try to use [arcpy.GetCount()](https://pro.arcgis.com/en/pro-app/latest/tool-reference/data-management/get-count.htm) to get the count of features in each shapefile!"
   ]
  },
  {
   "cell_type": "code",
   "execution_count": null,
   "metadata": {},
   "outputs": [],
   "source": [
    "# Review Problem 1\n",
    "# Write some code to get a list of shapefiles in our extracted_SHP folder\n",
    "# Loop through the list and print the shapefile name\n",
    "\n",
    "\n",
    "\n",
    "\n",
    "\n",
    "\n",
    "\n"
   ]
  },
  {
   "cell_type": "markdown",
   "metadata": {},
   "source": [
    "### Problem 2\n",
    "We want to do some geoprocessing with the shapefiles that we've gathered.  We'd like to gather only the features within a mile of our areas of interest and attribute them with the area of interest and neighborhood that they exist in.  Our order of operations will look something like:\n",
    "- Spatial Join our AOI features with our neighborhoods\n",
    "- Create a 1 mile buffer of each AOI feature\n",
    "- intersect each of our shapefiles with the buffered AOI shapefile\n",
    "\n",
    "**Useful Links**\n",
    "- [arcpy.analysis.SpatialJoin()](https://pro.arcgis.com/en/pro-app/latest/tool-reference/analysis/spatial-join.htm)\n",
    "- [arcpy.analysis.Intersect()](https://pro.arcgis.com/en/pro-app/latest/tool-reference/analysis/intersect.htm)\n",
    "\n"
   ]
  },
  {
   "cell_type": "code",
   "execution_count": null,
   "metadata": {},
   "outputs": [],
   "source": [
    "# Review Problem 2\n",
    "# We want to use the Locations_of_Interest.shp to create shapefiles of the nearby features in the extracted_SHP folder\n",
    "# Your code should\n",
    "# Create a new folder for the output of the spatial operations\n",
    "# Spatially join the neighborhood to the points\n",
    "# Buffer the points with neighborhood info by 1 mile and then intersect all the extracted_SHP with that buffer\n",
    "\n",
    "\n",
    "\n",
    "\n"
   ]
  },
  {
   "cell_type": "markdown",
   "metadata": {
    "heading_collapsed": true
   },
   "source": [
    "## Cursors"
   ]
  },
  {
   "cell_type": "markdown",
   "metadata": {
    "hidden": true
   },
   "source": [
    "### Problem 3\n",
    "Let's use a cursor to iterate through the SF_Business shapefile and print the business name (dba_name).\n",
    "\n",
    "**Useful Links**\n",
    "- [arcpy.da.SearchCursor()](https://pro.arcgis.com/en/pro-app/arcpy/data-access/searchcursor-class.htm)"
   ]
  },
  {
   "cell_type": "code",
   "execution_count": null,
   "metadata": {
    "hidden": true
   },
   "outputs": [],
   "source": [
    "\n",
    "# Write some code to create a search cursor to iterate through the SF_Business shapefile and print all the Pizza Restaurants\n",
    "# dba_name is the business name attribute field\n",
    "\n",
    "\n",
    "\n",
    "\n",
    "\n",
    "\n",
    "\n",
    "\n"
   ]
  },
  {
   "cell_type": "markdown",
   "metadata": {
    "heading_collapsed": true,
    "hidden": true
   },
   "source": [
    "### Problem 4\n",
    "We want to create a new folder for each location of interest and save our shapefiles in the new   We can use a search cursor to do this!  Let's try the following\n",
    "- create a SearchCursor to iterate through the AOI/Locations shapefile\n",
    "- store the location name as a local variable\n",
    "- create a new folder for each AOI feature\n",
    "- create intersected shapefiles for each AOI and put them in a folder specific to that AOI\n",
    "\n"
   ]
  },
  {
   "cell_type": "code",
   "execution_count": null,
   "metadata": {
    "hidden": true
   },
   "outputs": [],
   "source": [
    "# Search Cursor Problem 2\n",
    "# Building on Review Problem 2, use a search cursor to analyze each point seperately\n",
    "# Your code should\n",
    "# Spatially join the neighborhood to the Locations_of_Interest.shp\n",
    "# Create a search cursor of the output shp from above\n",
    "# Create a new folder for each point in the shp\n",
    "# Do the buffer and clip operation and save outputs to the individual point folders\n",
    "\n",
    "\n",
    "\n",
    "\n",
    "\n",
    "\n"
   ]
  },
  {
   "cell_type": "markdown",
   "metadata": {
    "heading_collapsed": true
   },
   "source": [
    "## Memory Workspace"
   ]
  },
  {
   "cell_type": "markdown",
   "metadata": {
    "hidden": true
   },
   "source": [
    "### Problem 5"
   ]
  },
  {
   "cell_type": "code",
   "execution_count": null,
   "metadata": {
    "hidden": true
   },
   "outputs": [],
   "source": [
    "# Memory Workspace Problem 1\n",
    "# Write some code to buffer the Locations_of_Interest.shp by 2500 FEET, use the memory workspace\n",
    "# Then clip the SF_Bike_Network.shp using the memory buffer.\n",
    "\n",
    "\n",
    "\n",
    "\n",
    "\n"
   ]
  },
  {
   "cell_type": "code",
   "execution_count": null,
   "metadata": {
    "hidden": true
   },
   "outputs": [],
   "source": [
    "# Memory Workspace Problem 2\n",
    "# Building on Search Cursor Problem 2, use the memory workspace for the spatial join and the buffer steps\n",
    "\n",
    "\n",
    "\n",
    "\n",
    "\n",
    "\n"
   ]
  }
 ],
 "metadata": {
  "kernelspec": {
   "display_name": "Python 3",
   "language": "python",
   "name": "python3"
  },
  "language_info": {
   "codemirror_mode": {
    "name": "ipython",
    "version": 3
   },
   "file_extension": ".py",
   "mimetype": "text/x-python",
   "name": "python",
   "nbconvert_exporter": "python",
   "pygments_lexer": "ipython3",
   "version": "3.7.9"
  }
 },
 "nbformat": 4,
 "nbformat_minor": 2
}
