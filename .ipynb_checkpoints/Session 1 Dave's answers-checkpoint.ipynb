{
 "cells": [
  {
   "cell_type": "markdown",
   "metadata": {},
   "source": [
    "# In-Session Work\n",
    "\n",
    "Let's use this notebook to work through some common issues and write our own code."
   ]
  },
  {
   "cell_type": "markdown",
   "metadata": {},
   "source": [
    "## Geoprocessing Automation"
   ]
  },
  {
   "cell_type": "markdown",
   "metadata": {},
   "source": [
    "### Problem 1\n",
    "We want to list all the shapefiles in a folder.  Printing the name of each shapefile would be sufficient in this case.\n",
    "\n",
    "**Useful Links**\n",
    "- [arcpy.env.workspace](https://pro.arcgis.com/en/pro-app/latest/tool-reference/environment-settings/current-workspace.htm)\n",
    "- [arcpy.ListFeatureClasses()](https://pro.arcgis.com/en/pro-app/latest/arcpy/functions/listfeatureclasses.htm)\n",
    "\n",
    "**Hint** - this is potentially useful.  When you're working in Python, `\".\"` refers to the folder you're running Python in.  In this case (and in many) it's the folder that the script exists in.\n",
    "\n",
    "**Bonus** - try to use [arcpy.GetCount()](https://pro.arcgis.com/en/pro-app/latest/tool-reference/data-management/get-count.htm) to get the count of features in each shapefile!"
   ]
  },
  {
   "cell_type": "code",
   "execution_count": 3,
   "metadata": {},
   "outputs": [
    {
     "name": "stdout",
     "output_type": "stream",
     "text": [
      "Locations_of_Interest.shp 14\n",
      "SF_Bike_Network.shp 5253\n",
      "SF_Businesses.shp 141973\n",
      "SF_Green_Connection_Network.shp 2738\n",
      "SF_Green_Roofs.shp 35\n",
      "SF_Neighborhoods.shp 41\n",
      "SF_Plant_Communities.shp 46\n",
      "SF_Slopes_Greaterthan20.shp 28055\n",
      "SF_Streets.shp 16984\n"
     ]
    }
   ],
   "source": [
    "# Review Problem 1\n",
    "# Write some code to get a list of shapefiles in our SF_SHPs folder\n",
    "# Loop through the list and print the shapefile name\n",
    "import arcpy\n",
    "\n",
    "folder = r\"C:\\Users\\dav11274\\Documents\\github-2\\Spring2021-BayGeo-Python-Int-Worksop-1\\Example_Data\\Extracted_SHP\"\n",
    "arcpy.env.workspace = folder\n",
    "for shp in arcpy.ListFeatureClasses():\n",
    "    print(shp, arcpy.management.GetCount(shp))\n"
   ]
  },
  {
   "cell_type": "code",
   "execution_count": 5,
   "metadata": {},
   "outputs": [
    {
     "data": {
      "text/plain": [
       "['Locations_of_Interest.shp',\n",
       " 'Locations_of_Interest.shp.xml',\n",
       " 'SF_Bike_Network.shp',\n",
       " 'SF_Businesses.shp',\n",
       " 'SF_Businesses.shp.xml',\n",
       " 'SF_Green_Connection_Network.shp',\n",
       " 'SF_Green_Roofs.shp',\n",
       " 'SF_Neighborhoods.shp',\n",
       " 'SF_Neighborhoods.shp.xml',\n",
       " 'SF_Plant_Communities.shp',\n",
       " 'SF_Slopes_Greaterthan20.shp',\n",
       " 'SF_Streets.shp']"
      ]
     },
     "execution_count": 5,
     "metadata": {},
     "output_type": "execute_result"
    }
   ],
   "source": [
    "import os\n",
    "os.listdir(shp)"
   ]
  },
  {
   "cell_type": "code",
   "execution_count": 6,
   "metadata": {},
   "outputs": [
    {
     "name": "stdout",
     "output_type": "stream",
     "text": [
      "Locations_of_Interest.shp\n",
      "SF_Bike_Network.shp\n",
      "SF_Businesses.shp\n",
      "SF_Green_Connection_Network.shp\n",
      "SF_Green_Roofs.shp\n",
      "SF_Neighborhoods.shp\n",
      "SF_Plant_Communities.shp\n",
      "SF_Slopes_Greaterthan20.shp\n",
      "SF_Streets.shp\n"
     ]
    }
   ],
   "source": [
    "for root, dirs, files in arcpy.da.Walk(folder):\n",
    "    for file in files:\n",
    "        print(file)"
   ]
  },
  {
   "cell_type": "markdown",
   "metadata": {},
   "source": [
    "### Problem 2\n",
    "We want to do some geoprocessing with the shapefiles that we've gathered.  We'd like to gather only the features within a mile of our areas of interest and attribute them with the area of interest and neighborhood that they exist in.  Our order of operations will look something like:\n",
    "- Spatial Join our AOI features with our neighborhoods\n",
    "- Create a 1 mile buffer of each AOI feature\n",
    "- intersect each of our shapefiles with the buffered AOI shapefile\n",
    "\n",
    "**Useful Links**\n",
    "- [arcpy.analysis.SpatialJoin()](https://pro.arcgis.com/en/pro-app/latest/tool-reference/analysis/spatial-join.htm)\n",
    "- [arcpy.analysis.Intersect()](https://pro.arcgis.com/en/pro-app/latest/tool-reference/analysis/intersect.htm)\n",
    "\n"
   ]
  },
  {
   "cell_type": "code",
   "execution_count": 10,
   "metadata": {},
   "outputs": [
    {
     "name": "stdout",
     "output_type": "stream",
     "text": [
      "Intersecting SF_Bike_Network.shp\n",
      "Intersecting SF_Businesses.shp\n",
      "Intersecting SF_Green_Connection_Network.shp\n",
      "Intersecting SF_Green_Roofs.shp\n",
      "Intersecting SF_Neighborhoods.shp\n",
      "Intersecting SF_Plant_Communities.shp\n",
      "Intersecting SF_Slopes_Greaterthan20.shp\n",
      "Intersecting SF_Streets.shp\n",
      "Intersecting starting_point_sj.shp\n"
     ]
    }
   ],
   "source": [
    "# Review Problem 2\n",
    "# We want to use the Locations_of_Interest.shp to create shapefiles of the nearby features in the SF_SHPs folder\n",
    "# Your code should\n",
    "# Create a new folder for the output of the spatial operations\n",
    "# Spatially join the neighborhood to the points\n",
    "# Buffer the points with neighborhood info by 1 mile and then intersect all the SF_SHPS with that buffer\n",
    "\n",
    "arcpy.env.overwriteOutput=True\n",
    "\n",
    "extracted_folder = r\".\\Example_Data\\Extracted_SHP\"\n",
    "if not os.path.exists(extracted_folder):\n",
    "    os.mkdir(extracted_folder)\n",
    "\n",
    "\n",
    "#Set location for output of geoprocessing tools\n",
    "output_folder = r\".\\Example_Data\\Output_Folder\"\n",
    "if not os.path.exists(output_folder):\n",
    "    os.mkdir(output_folder)\n",
    "\n",
    "# set input for clipping\n",
    "starting_point = os.path.join(extracted_folder, 'Locations_of_Interest.shp')\n",
    "\n",
    "# spatial join with neighborhoods\n",
    "starting_point_sj = arcpy.analysis.SpatialJoin(starting_point,\n",
    "                                               os.path.join(extracted_folder,'SF_Neighborhoods.shp'),\n",
    "                                               os.path.join(extracted_folder,'starting_point_sj.shp')\n",
    "                                              )\n",
    "                                               \n",
    "\n",
    "# create buffered shapefile to use in clip\n",
    "starting_point_buffer = arcpy.Buffer_analysis(starting_point_sj, \n",
    "                                              os.path.join(output_folder, 'Location_buffer.shp'),\n",
    "                                              \"1 Mile\")\n",
    "\n",
    "# iterate through shapefiles and create clipped shapefiles\n",
    "arcpy.env.workspace = extracted_folder\n",
    "shp_list = arcpy.ListFeatureClasses()\n",
    "shps_to_clip = [s for s in shp_list if 'Location' not in s]\n",
    "\n",
    "for shp in shps_to_clip:\n",
    "    #Clipping all our shapefiles\n",
    "    print('Intersecting', shp)\n",
    "    clip_shp = os.path.join(output_folder, shp[:-4] + '_int.shp')\n",
    "    arcpy.analysis.Intersect([shp, starting_point_buffer], clip_shp)\n",
    "\n",
    "\n",
    "\n"
   ]
  },
  {
   "cell_type": "markdown",
   "metadata": {},
   "source": [
    "## Cursors"
   ]
  },
  {
   "cell_type": "markdown",
   "metadata": {},
   "source": [
    "### Problem 3\n",
    "Let's use a cursor to iterate through the SF_Business shapefile and print the business name (dba_name).\n",
    "\n",
    "**Useful Links**\n",
    "- [arcpy.da.SearchCursor()](https://pro.arcgis.com/en/pro-app/arcpy/data-access/searchcursor-class.htm)"
   ]
  },
  {
   "cell_type": "code",
   "execution_count": 11,
   "metadata": {},
   "outputs": [
    {
     "name": "stdout",
     "output_type": "stream",
     "text": [
      "FID\n",
      "Shape\n",
      "business_c\n",
      "business_z\n",
      "certificat\n",
      "city\n",
      "class_code\n",
      "date_dba_e\n",
      "time_dba_e\n",
      "dba_name\n",
      "date_dba_s\n",
      "time_dba_s\n",
      "full_busin\n",
      "lic\n",
      "lic_code_d\n",
      "location_a\n",
      "location_c\n",
      "date_locat\n",
      "time_locat\n",
      "date_loc_2\n",
      "time_loc_2\n",
      "location_s\n",
      "location_z\n",
      "mail_city\n",
      "mail_state\n",
      "mail_zipco\n",
      "mailing_ad\n",
      "naic_code\n",
      "naic_code_\n",
      "neighborho\n",
      "ownership_\n",
      "parking_ta\n",
      "pbc_code\n",
      "state\n",
      "supervisor\n",
      "transient_\n",
      "ttxid\n"
     ]
    }
   ],
   "source": [
    "\n",
    "# Write some code to create a search cursor to iterate through the SF_Business shapefile and print all the Pizza Restaurants\n",
    "# dba_name is the business name attribute field\n",
    "\n",
    "\n",
    "shp_businesses = r\"C:\\Users\\dav11274\\Documents\\github-2\\Spring2021-BayGeo-Python-Int-Worksop-1\\Example_Data\\Extracted_SHP\\SF_Businesses.shp\"\n",
    "for field in arcpy.ListFields(shp_businesses):\n",
    "    print(field.name)\n"
   ]
  },
  {
   "cell_type": "code",
   "execution_count": 12,
   "metadata": {
    "scrolled": false
   },
   "outputs": [
    {
     "name": "stdout",
     "output_type": "stream",
     "text": [
      "('Blondies Pizza',)\n",
      "('Viva Pizza Restaurant',)\n",
      "('Golden Boy Pizza',)\n",
      "('Ocean Pizza Restaurant',)\n",
      "('Dominos Pizza',)\n",
      "('Dominos Pizza',)\n",
      "(\"Domino's Pizza\",)\n",
      "('Escape From Ny Pizza',)\n",
      "('Round Table Pizza',)\n",
      "('Pizza Express',)\n",
      "('Primetime Pizza Sportsbar/grl',)\n",
      "('Galaxcy Pizza',)\n",
      "('Go Getters Pizza',)\n",
      "('New York New York Pizza Ktcn',)\n",
      "('Paradise Pizza Llc',)\n",
      "('Nizarios Pizza',)\n",
      "('Irving Pizza',)\n",
      "('Rainbow Pizza',)\n",
      "(\"Daddyboy's Pizza\",)\n",
      "('Seniores Pizza',)\n",
      "('Mama Pizza/indian Pakistani Fd',)\n",
      "('Pronto Pizza And Espresso',)\n",
      "('Pizza Royal',)\n",
      "('Cable Car Pizza',)\n",
      "('Cable Car Pizza',)\n",
      "('Geary Street Bella Pizza',)\n",
      "('Irving Pizza #3',)\n",
      "('Sf Hole In The Wall Pizza',)\n",
      "('Pizza Love',)\n",
      "('Pizza & Pasta',)\n",
      "('Brooklyn Pizza Restaurant',)\n",
      "('Sbc Pizza Deli',)\n",
      "('Diala Pizza Restaurant',)\n",
      "('Pizza Orgasmica & Brewing Co',)\n",
      "('City Pizza And Yucatecan Food',)\n",
      "('Pizza Joint',)\n",
      "('Farina Pizza Cucina Italiana',)\n",
      "('Pizza Joint And Grill',)\n",
      "('Piccolo Italia Pizza',)\n",
      "('Piccolo Italia Pizza',)\n",
      "('Piccolo Italia Pizza',)\n",
      "('Pizza Joint Inc',)\n",
      "('Cybelles Pizza',)\n",
      "('Pizza Orgasmica Embarcadero',)\n",
      "('Pino Pizza & Kitchen',)\n",
      "(\"Sparky's Pizza & Diner\",)\n",
      "('Giovannis Pizza Bistro',)\n",
      "('Bellissimo Pizza',)\n",
      "('Mr Pizza Man',)\n",
      "('Pizza Pino & Kitchen',)\n",
      "('Brunos Pizza & Restaurant',)\n",
      "('Venice Pizza And Restaurant #2',)\n",
      "('Parkway Pizza',)\n",
      "('Rosanero Pizza',)\n",
      "('Mythic Pizza Inc',)\n",
      "('Nizarios Pizza #4',)\n",
      "(\"Gino's Pizza\",)\n",
      "('Twin Peaks Pizza',)\n",
      "('Pranzo Pizza',)\n",
      "('Pizza Di Mano',)\n",
      "('Volare Pizza',)\n",
      "('Good Pizza',)\n",
      "('Pizza Hacker',)\n",
      "('Balboa Pizza',)\n",
      "('Taraval Pizza',)\n",
      "('Pick Me Up Pizza Kitchen',)\n",
      "('Mr Pizza Geary',)\n",
      "('Rotana Pizza',)\n",
      "('Royalty Pizza Cafe',)\n",
      "('Irving Pizza',)\n",
      "('Ayadi Pizza',)\n",
      "('Bayview Burgers & Pizza',)\n",
      "('La Perla Pizza',)\n",
      "(\"Giovanni's Pizza Bistro\",)\n",
      "('Supremo Pizza',)\n",
      "('Mission Pizza',)\n",
      "('Mr Pizza Man Broadway',)\n",
      "('Bayview Burger And Pizza',)\n",
      "(\"Giovanni's Pizza Bistro\",)\n",
      "('Nostra Pizza Asia Fusion',)\n",
      "('Avanti Pizza',)\n",
      "(\"Pia's Amazing Pizza\",)\n",
      "('Marina Round Table Pizza',)\n",
      "('Dialas Pizza',)\n",
      "('Volare Pizza',)\n",
      "('Milan Pizza',)\n",
      "(\"Giovanni's Pizza Bistro\",)\n",
      "('Long Bridge Pizza',)\n",
      "('Ingleside Pizza',)\n",
      "('Supreme Pizza',)\n",
      "('Mustafios Pizza',)\n",
      "('Presidio Pizza Company',)\n",
      "('Pizza Pino & Kitchen',)\n",
      "('Geneva Pizza And Grille',)\n",
      "('Pleiades Pizza',)\n",
      "('Haight Pizza',)\n",
      "('Veraci Pizza',)\n",
      "('Midnight Pizza',)\n",
      "('Sf Pizza',)\n",
      "('Artist Riccardo Spizzamiglio',)\n",
      "('Pizza Nostra',)\n",
      "('Chicos Pizza',)\n",
      "('Chicos Pizza',)\n",
      "('New Venice Pizza And Resturant',)\n",
      "('Panhandle Pizza',)\n",
      "('North Beach Pizza,too!-On',)\n",
      "(\"Mustafio's Pizza\",)\n",
      "('La Mama Pizza & Kitchen',)\n",
      "('Team San Francisco Pizza Llc',)\n",
      "('Golden Boy Wholesale Pizza',)\n",
      "('Pizza Perfect Nails',)\n",
      "(\"Maysoon's Pizza\",)\n",
      "('Indian Food And Pizza',)\n",
      "('Gochees Pizza',)\n",
      "('Pizza Pino & Kitchen',)\n",
      "('Passione Pizza',)\n",
      "('Passione Pizza',)\n",
      "('Pronto Pizza',)\n",
      "('New York Pizza Kitchen',)\n",
      "('Chick And Love Pizza Patio',)\n",
      "('Dba: Mama Mia Pizza',)\n",
      "('Little Joes Pizza',)\n",
      "('Goat Hill Pizza',)\n",
      "('Goat Hill Pizza',)\n",
      "(\"Gaspare's Pizza House & Rest\",)\n",
      "('Calzones Pizza Cucina',)\n",
      "('Luisa Pizza And Pasta',)\n",
      "('Escape From New York Pizza Ii',)\n",
      "('My Pizza',)\n",
      "('Bus Stop Pizza 1',)\n",
      "('North Beach Pizza Too!',)\n",
      "('Arinell Pizza',)\n",
      "('Bravo Pizza',)\n",
      "('California Pizza Kitchen',)\n",
      "('Victors Pizza',)\n",
      "('New York Pizza',)\n",
      "('Paulines Pizza',)\n",
      "('Pizza Hut',)\n",
      "('Pizza Hut',)\n",
      "(\"Vince's Pizza House & Catering\",)\n",
      "('North Beach Pizza',)\n",
      "('Round Table Pizza',)\n",
      "('Golden Boy Pizza',)\n",
      "('Dna Pizza',)\n",
      "(\"Uncle Vito's Pizza Llc\",)\n",
      "('Pizza Prada',)\n",
      "('Pizza Foods Inc',)\n",
      "('Round Table Pizza',)\n",
      "('Round Table Pizza',)\n",
      "('Deja Vu Pizza & Pasta',)\n",
      "(\"Serrano's Pizza Inc\",)\n",
      "('Round Table Pizza',)\n",
      "('Haystack Pizza Restaurant',)\n",
      "('Extreme Pizza',)\n",
      "('The Village Market & Pizza',)\n",
      "('Little Star Pizza',)\n",
      "('Venice Pizza And Restaurant',)\n",
      "('Patxis Chicago Pizza',)\n",
      "('Patxis Chicago Pizza',)\n",
      "('Patxis Chicago Pizza',)\n",
      "('Patxis Pizza',)\n",
      "('Bush Street Pizza Inc',)\n",
      "('Escape From New York Pizza',)\n",
      "('Little Star Pizza Valencia',)\n",
      "('Escape From New York Pizza',)\n",
      "('The Pizza Place On Noriega',)\n",
      "('Pizza Orgasmica',)\n",
      "('Pizza Orgasmica & Brewing Co',)\n",
      "('Zozan Slice Pizza',)\n",
      "('Big Slice Pizza',)\n",
      "('Pizza Zone N Grill',)\n",
      "('Fahim Shafik Pizza Zone Inc',)\n",
      "('Pizza Zone',)\n",
      "('Pomodoro Pizza',)\n",
      "('Little Caesars Pizza',)\n",
      "('Milan Pizza',)\n",
      "('Naples Pizzarella',)\n",
      "(\"Tony's Pizza Napoletana\",)\n",
      "('International School Of Pizza',)\n",
      "('Panhandle Pizza',)\n",
      "('Escape From New York Pizza',)\n",
      "('Zantes Pizza Inc',)\n",
      "('Zpizza',)\n",
      "(\"Papa John's Pizza\",)\n",
      "(\"Papa John's Pizza\",)\n",
      "('Brothers Pizza',)\n",
      "('Donairos Pizza',)\n",
      "('Escape From New York Pizza',)\n",
      "('Una Pizza Napoletana Llc',)\n",
      "('Golden Gate Pizza&indian Resta',)\n",
      "(\"Casey's Pizza Llc\",)\n",
      "(\"Nizario's Pizza #2\",)\n",
      "(\"Nizario's Pizza\",)\n",
      "('Mr Pizza Man',)\n",
      "('Pizzaria',)\n",
      "('All Good Pizza',)\n",
      "('Nizarios Pizza Valencia',)\n",
      "('Marina Pizza & Pasta',)\n",
      "('Carmel Pizza Company',)\n",
      "('New Venice Pizza & Restaurant',)\n",
      "(\"Cybelle's Pizza\",)\n",
      "('Fresco Pizza & Grill',)\n",
      "('The Supremo Pizza Llc',)\n",
      "('The Pizza Shop',)\n",
      "('Pronto Pizza',)\n",
      "('Nizarios Pizza Sfsu',)\n",
      "('Pizza Express',)\n",
      "('All Nite Pizza & Foods',)\n",
      "('Firetrail Pizza',)\n",
      "('Pizza Joint 3',)\n",
      "('Pizzahacker',)\n",
      "('Long Bridge Pizza Company',)\n",
      "('Valencia Pizza & Pasta',)\n",
      "('Pizza Inferno Restaurant & Bar',)\n",
      "('Pizza Inferno',)\n",
      "('Inferno A Pizza Bar',)\n",
      "('Inferno Pizza & Bar',)\n",
      "('Extreme Pizza',)\n",
      "('Extreme Pizza',)\n",
      "('Extreme Pizza',)\n",
      "('Extreme Pizza',)\n",
      "('North Beach Pizza Express',)\n",
      "('Napoli Pizza',)\n",
      "('Pizzardi Ginny M',)\n",
      "(\"Marcello's Pizza\",)\n",
      "('Za Pizza',)\n",
      "('Round Table Pizza',)\n",
      "('Mythic Pizza',)\n",
      "('Primo Pizza',)\n",
      "('Oz Pizza',)\n",
      "('Cesco Pizza',)\n",
      "(\"Cybelle's Pizza\",)\n",
      "('Soma Pizza',)\n",
      "('City Pizza & Yucatan Food',)\n",
      "(\"Gio's Pizza Restaurant\",)\n",
      "('Pizza Joint And Grill',)\n",
      "('Patxis Pizza',)\n",
      "('Patxis Pizza',)\n",
      "('Jersey Pizza Llc',)\n",
      "('Twin Peaks Pizza And Pasta',)\n",
      "('Seniores Pizza',)\n",
      "(\"Cecilia's Pizza & Restaurant\",)\n",
      "('City Pizza And Burger Inc',)\n",
      "('Volare Pizza And Restaurant',)\n",
      "('Patxis Pizza',)\n",
      "('Pizza Joint',)\n",
      "(\"Chico's Pizza\",)\n",
      "('Bellissimo Pizza',)\n",
      "(\"Bruno's Pizza & Restaurant\",)\n",
      "(\"Blaze Pizza Fast-Fire'd\",)\n",
      "('Dna Pizza',)\n",
      "('Pizza Casa Tua',)\n",
      "('Powell Street Pizza And Pasta',)\n",
      "(\"Chico's Pizza\",)\n",
      "('Monterey Pizza & Asian Zap',)\n",
      "('Passione Pizza',)\n",
      "('Golden State Pizza Grill & Sports Bar',)\n",
      "('North Beach Pizza',)\n",
      "('Take One Pizza',)\n",
      "('Pizza Zone And Grill',)\n"
     ]
    }
   ],
   "source": [
    "cursor = arcpy.da.SearchCursor(shp_businesses, ['dba_name'])\n",
    "for row in cursor:\n",
    "    if 'pizza' in row[0].lower():\n",
    "        print(row)"
   ]
  },
  {
   "cell_type": "code",
   "execution_count": 13,
   "metadata": {},
   "outputs": [],
   "source": [
    "del(cursor)"
   ]
  },
  {
   "cell_type": "markdown",
   "metadata": {},
   "source": [
    "### Problem 4\n",
    "We want to create a new folder for each location of interest and save our shapefiles in the new   We can use a search cursor to do this!  Let's try the following\n",
    "- create a SearchCursor to iterate through the AOI/Locations shapefile\n",
    "- store the location name as a local variable\n",
    "- create a new folder for each AOI feature\n",
    "- create intersected shapefiles for each AOI and put them in a folder specific to that AOI\n",
    "\n"
   ]
  },
  {
   "cell_type": "code",
   "execution_count": 26,
   "metadata": {},
   "outputs": [
    {
     "data": {
      "text/plain": [
       "['Locations_of_Interest.shp',\n",
       " 'SF_Bike_Network.shp',\n",
       " 'SF_Businesses.shp',\n",
       " 'SF_Green_Connection_Network.shp',\n",
       " 'SF_Green_Roofs.shp',\n",
       " 'SF_Neighborhoods.shp',\n",
       " 'SF_Plant_Communities.shp',\n",
       " 'SF_Slopes_Greaterthan20.shp',\n",
       " 'SF_Streets.shp',\n",
       " 'starting_point_sj.shp']"
      ]
     },
     "execution_count": 26,
     "metadata": {},
     "output_type": "execute_result"
    }
   ],
   "source": [
    "arcpy.ListFeatureClasses()"
   ]
  },
  {
   "cell_type": "code",
   "execution_count": 27,
   "metadata": {},
   "outputs": [
    {
     "name": "stdout",
     "output_type": "stream",
     "text": [
      "One 1\n",
      "Two 1\n",
      "Three 1\n",
      "Four 1\n",
      "Five 1\n",
      "Six 1\n",
      "Seven 1\n",
      "Eight 1\n",
      "Nine 1\n",
      "Ten 1\n",
      "Eleven 1\n",
      "Twelve 1\n",
      "Thirteen 1\n",
      "Fourteen 1\n"
     ]
    }
   ],
   "source": [
    "# Search Cursor Problem 2\n",
    "# Building on Review Problem 2, use a search cursor to analyze each point seperately\n",
    "# Your code should\n",
    "# Create a search cursor of the AOI/Spatial Join shapefile output shp from above\n",
    "# Create a new folder for each point in the shp\n",
    "# Do the buffer and clip operation and save outputs to the individual point folders\n",
    "\n",
    "\n",
    "shp_sj = r\"C:\\Users\\dav11274\\Documents\\github-2\\Spring2021-BayGeo-Python-Int-Worksop-1\\Example_Data\\Extracted_SHP\\starting_point_sj.shp\"\n",
    "# print([f.name for f in arcpy.ListFields(shp_sj)])\n",
    "flyr_sj = arcpy.management.MakeFeatureLayer(shp_sj)\n",
    "\n",
    "\n",
    "top_folder = r'C:\\Users\\dav11274\\Documents\\github-2\\Spring2021-BayGeo-Python-Int-Worksop-1\\Example_Data\\temp_folder'\n",
    "for row in arcpy.da.SearchCursor(flyr_sj, ['Location', 'nhood']):\n",
    "#     print(row)\n",
    "    new_folder = os.path.join(top_folder, row[0])\n",
    "    os.mkdir(new_folder)    \n",
    "    query = \"Location = '{}'\".format(row[0])\n",
    "    arcpy.SelectLayerByAttribute_management(flyr_sj, \"NEW_SELECTION\", query)\n",
    "    print(row[0], arcpy.management.GetCount(flyr_sj))\n",
    "    shp_buffer = arcpy.analysis.Buffer(flyr_sj, os.path.join(new_folder, 'location_buffer.shp'), \"1 Mile\")\n",
    "    \n",
    "    for shp in arcpy.ListFeatureClasses():\n",
    "        arcpy.analysis.Clip(shp, shp_buffer, os.path.join(new_folder, shp))\n",
    "    \n",
    "\n",
    "\n"
   ]
  },
  {
   "cell_type": "markdown",
   "metadata": {},
   "source": [
    "## Memory Workspace"
   ]
  },
  {
   "cell_type": "markdown",
   "metadata": {},
   "source": [
    "### Problem 5"
   ]
  },
  {
   "cell_type": "code",
   "execution_count": 30,
   "metadata": {},
   "outputs": [],
   "source": [
    "# Memory Workspace Problem 1\n",
    "# Write some code to buffer the Locations_of_Interest.shp by 2500 FEET, use the memory workspace\n",
    "# Then clip the SF_Bike_Network.shp using the memory buffer.\n",
    "\n",
    "\n",
    "shp_buffer_mem = arcpy.analysis.Buffer(shp_sj, os.path.join('in_memory', 'location_buffer'), \"2500 FEET\")\n",
    "output = arcpy.analysis.Clip('SF_Bike_Network.shp', shp_buffer_mem, os.path.join(top_folder, 'bike_network_2500ft.shp'))\n",
    "\n"
   ]
  },
  {
   "cell_type": "code",
   "execution_count": 33,
   "metadata": {},
   "outputs": [
    {
     "name": "stdout",
     "output_type": "stream",
     "text": [
      "One 1\n",
      "Two 1\n",
      "Three 1\n",
      "Four 1\n",
      "Five 1\n",
      "Six 1\n",
      "Seven 1\n",
      "Eight 1\n",
      "Nine 1\n",
      "Ten 1\n",
      "Eleven 1\n",
      "Twelve 1\n",
      "Thirteen 1\n",
      "Fourteen 1\n"
     ]
    }
   ],
   "source": [
    "# Memory Workspace Problem 2\n",
    "# Building on Search Cursor Problem 2, use the memory workspace for the spatial join and the buffer steps\n",
    "\n",
    "shp_sj = r\"C:\\Users\\dav11274\\Documents\\github-2\\Spring2021-BayGeo-Python-Int-Worksop-1\\Example_Data\\Extracted_SHP\\starting_point_sj.shp\"\n",
    "# print([f.name for f in arcpy.ListFields(shp_sj)])\n",
    "flyr_sj = arcpy.management.MakeFeatureLayer(shp_sj)\n",
    "\n",
    "\n",
    "top_folder = r'C:\\Users\\dav11274\\Documents\\github-2\\Spring2021-BayGeo-Python-Int-Worksop-1\\Example_Data\\temp_folder'\n",
    "for row in arcpy.da.SearchCursor(flyr_sj, ['Location', 'nhood']):\n",
    "    new_folder = os.path.join(top_folder, row[0])\n",
    "    os.mkdir(new_folder)    \n",
    "    query = \"Location = '{}'\".format(row[0])\n",
    "    arcpy.SelectLayerByAttribute_management(flyr_sj, \"NEW_SELECTION\", query)\n",
    "    print(row[0], arcpy.management.GetCount(flyr_sj))\n",
    "    shp_buffer = arcpy.analysis.Buffer(flyr_sj, os.path.join(\"in_memory\", 'location_buffer'), \".5 Mile\")\n",
    "    \n",
    "    for shp in arcpy.ListFeatureClasses():\n",
    "        arcpy.analysis.Clip(shp, shp_buffer, os.path.join(new_folder, shp))\n",
    "    \n",
    "\n",
    "\n",
    "\n",
    "\n",
    "\n"
   ]
  },
  {
   "cell_type": "code",
   "execution_count": 34,
   "metadata": {},
   "outputs": [
    {
     "ename": "NameError",
     "evalue": "name 'cursor' is not defined",
     "output_type": "error",
     "traceback": [
      "\u001b[1;31m---------------------------------------------------------------------------\u001b[0m",
      "\u001b[1;31mNameError\u001b[0m                                 Traceback (most recent call last)",
      "\u001b[1;32m<ipython-input-34-a8aab681033d>\u001b[0m in \u001b[0;36m<module>\u001b[1;34m\u001b[0m\n\u001b[1;32m----> 1\u001b[1;33m \u001b[1;32mdel\u001b[0m \u001b[0mcursor\u001b[0m\u001b[1;33m\u001b[0m\u001b[1;33m\u001b[0m\u001b[0m\n\u001b[0m",
      "\u001b[1;31mNameError\u001b[0m: name 'cursor' is not defined"
     ]
    }
   ],
   "source": [
    "del cursor"
   ]
  },
  {
   "cell_type": "code",
   "execution_count": null,
   "metadata": {},
   "outputs": [],
   "source": []
  }
 ],
 "metadata": {
  "kernelspec": {
   "display_name": "Python 3",
   "language": "python",
   "name": "python3"
  },
  "language_info": {
   "codemirror_mode": {
    "name": "ipython",
    "version": 3
   },
   "file_extension": ".py",
   "mimetype": "text/x-python",
   "name": "python",
   "nbconvert_exporter": "python",
   "pygments_lexer": "ipython3",
   "version": "3.7.9"
  }
 },
 "nbformat": 4,
 "nbformat_minor": 2
}
